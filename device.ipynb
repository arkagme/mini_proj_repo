{
 "cells": [
  {
   "cell_type": "code",
   "execution_count": 8,
   "id": "1bf53d48-9ee1-427e-bd36-d8f3d15d60e1",
   "metadata": {},
   "outputs": [],
   "source": [
    "import pandas as pd"
   ]
  },
  {
   "cell_type": "code",
   "execution_count": null,
   "id": "993a6b49-302c-455a-a32d-0a592fc1a320",
   "metadata": {},
   "outputs": [],
   "source": []
  },
  {
   "cell_type": "code",
   "execution_count": 9,
   "id": "4ac250e8-0055-4470-a6a6-1340afa0bfe6",
   "metadata": {},
   "outputs": [],
   "source": [
    "df = pd.read_csv(\"device.csv\")"
   ]
  },
  {
   "cell_type": "code",
   "execution_count": 10,
   "id": "d30b1a7d-1495-42e5-9ed4-a1a2cbdf824b",
   "metadata": {},
   "outputs": [],
   "source": [
    "import pickle\n",
    "\n",
    "with open('assignments.pkl', 'rb') as f:\n",
    "    self_dict = pickle.load(f)"
   ]
  },
  {
   "cell_type": "code",
   "execution_count": 11,
   "id": "e6c94dd9-1135-420f-a655-eb1e4420751b",
   "metadata": {},
   "outputs": [],
   "source": [
    "with open('shared.pkl', 'rb') as f:\n",
    "    share_dict = pickle.load(f)"
   ]
  },
  {
   "cell_type": "code",
   "execution_count": 12,
   "id": "45f8a471-bed2-45b9-b391-0232ddca4616",
   "metadata": {},
   "outputs": [],
   "source": [
    "import warnings\n",
    "warnings.filterwarnings(\"ignore\")\n",
    "self = []\n",
    "for i in df.index:\n",
    "    if df['pc'][i] == self_dict[df['user'][i]]:\n",
    "        self.append('self')\n",
    "    elif df['pc'][i] in share_dict:\n",
    "        self.append('shared')\n",
    "    else:\n",
    "        self.append('other')\n",
    "df['pc'] = self"
   ]
  },
  {
   "cell_type": "code",
   "execution_count": 18,
   "id": "3781d0ee-e621-4f09-98cd-0389b208d258",
   "metadata": {
    "scrolled": true
   },
   "outputs": [
    {
     "data": {
      "text/plain": [
       "{'other', 'self'}"
      ]
     },
     "execution_count": 18,
     "metadata": {},
     "output_type": "execute_result"
    }
   ],
   "source": [
    "set(self)"
   ]
  },
  {
   "cell_type": "code",
   "execution_count": null,
   "id": "b48d9e7e-5fed-4e15-a147-fca2a39b6afa",
   "metadata": {},
   "outputs": [],
   "source": []
  },
  {
   "cell_type": "code",
   "execution_count": null,
   "id": "def857e9-f156-4991-a732-afe63ae3e845",
   "metadata": {},
   "outputs": [],
   "source": []
  },
  {
   "cell_type": "code",
   "execution_count": 16,
   "id": "ba5cd62b-f690-4783-8b73-6a59464cc6a4",
   "metadata": {},
   "outputs": [
    {
     "data": {
      "text/plain": [
       "<bound method Series.unique of 0          PC-5849\n",
       "1          PC-6961\n",
       "2          PC-1570\n",
       "3          PC-6427\n",
       "4          PC-6961\n",
       "            ...   \n",
       "1551823    PC-7733\n",
       "1551824    PC-8657\n",
       "1551825    PC-8657\n",
       "1551826    PC-6551\n",
       "1551827    PC-6551\n",
       "Name: pc, Length: 1551828, dtype: object>"
      ]
     },
     "execution_count": 16,
     "metadata": {},
     "output_type": "execute_result"
    }
   ],
   "source": [
    "df['pc'].unique"
   ]
  },
  {
   "cell_type": "code",
   "execution_count": 4,
   "id": "9ecf3cd2-4015-4a4b-908e-6fe065537c1b",
   "metadata": {},
   "outputs": [],
   "source": [
    "import pandas as pd\n",
    "from collections import defaultdict\n",
    "\n",
    "def process_device_file(file_path):\n",
    "\n",
    "    df_device = pd.read_csv(file_path)\n",
    "    df_device['date'] = pd.to_datetime(df_device['date'])\n",
    "\n",
    "    user_pc_mapping = defaultdict(lambda: defaultdict(int))\n",
    "    \n",
    "    for index, row in df_device.iterrows():\n",
    "        user = row['user']\n",
    "        pc = row['pc']\n",
    "        activity = row['activity']\n",
    "        \n",
    " \n",
    "        if activity == 'Connect':\n",
    "            user_pc_mapping[user][pc] += 1\n",
    "    \n",
    "    primary_pcs = {}\n",
    "    for user, pc_counts in user_pc_mapping.items():\n",
    "        if pc_counts:  \n",
    "            primary_pcs[user] = max(pc_counts.items(), key=lambda x: x[1])[0]\n",
    "    \n",
    "\n",
    "    df_device['token'] = 'NIL'\n",
    "    \n",
    "\n",
    "    for index, row in df_device.iterrows():\n",
    "        user = row['user']\n",
    "        pc = row['pc']\n",
    "        activity = row['activity']\n",
    "        \n",
    " \n",
    "        pc_type = 'Self' if user in primary_pcs and primary_pcs[user] == pc else 'Other'\n",
    "        \n",
    "\n",
    "        df_device.loc[index, 'token'] = f\"{pc_type}_{activity}\"\n",
    "        \n",
    "        \n",
    "\n",
    "        if pd.notna(row['file_tree']) and row['file_tree'].strip():\n",
    "            tree_depth = len(row['file_tree'].split(';'))\n",
    "            df_device.loc[index, 'token'] += f\"_Depth{min(tree_depth, 3)}\"  # Cap depth at 3 for simplicity\n",
    "        else:\n",
    "            df_device.loc[index, 'token'] += '_NoTree'\n",
    "    \n",
    "    return df_device"
   ]
  },
  {
   "cell_type": "code",
   "execution_count": 5,
   "id": "1f33a0fa-735f-4131-a94b-a471d69e697f",
   "metadata": {},
   "outputs": [
    {
     "name": "stdout",
     "output_type": "stream",
     "text": [
      "Processing decoy_file.csv...\n",
      "\n",
      "Sample of tokenized decoy file:\n",
      "            decoy_filename       pc       token\n",
      "0  C:\\LJE2413\\795JW126.jpg  PC-0302    High_jpg\n",
      "1          C:\\QMU9BC38.pdf  PC-6566     Low_pdf\n",
      "2  C:\\GIS1668\\YPS1RSIK.jpg  PC-2606    High_jpg\n",
      "3          C:\\KD02AETE.pdf  PC-5393    High_pdf\n",
      "4          C:\\AUZTDD4J.jpg  PC-8753  Medium_jpg\n",
      "Successfully generated tokens for decoy_file.csv\n",
      "\n",
      "Processing device.csv...\n",
      "\n",
      "Sample of tokenized device file:\n",
      "                         id     user       pc    activity  \\\n",
      "0  {Z2Q8-K3AV28BE-9353JIRT}  SDH2394  PC-5849     Connect   \n",
      "1  {C7F1-G7LE60RU-2483DAXS}  JKS2444  PC-6961     Connect   \n",
      "2  {T9A4-D4RV69OF-1704NINW}  CBA1023  PC-1570     Connect   \n",
      "3  {S8L0-O6QQ15NL-0636OYNV}  GNT0221  PC-6427     Connect   \n",
      "4  {U0F1-R1FX27FM-6954TTVU}  JKS2444  PC-6961  Disconnect   \n",
      "\n",
      "                                  token  \n",
      "0     Primary_Connect_AfterHours_Depth3  \n",
      "1     Primary_Connect_AfterHours_Depth2  \n",
      "2     Primary_Connect_AfterHours_Depth3  \n",
      "3     Primary_Connect_AfterHours_Depth2  \n",
      "4  Primary_Disconnect_AfterHours_NoTree  \n",
      "Successfully generated tokens for device.csv\n"
     ]
    }
   ],
   "source": [
    "print(\"\\nProcessing device.csv...\")\n",
    "df_device_processed = process_device_file('device.csv')\n",
    "\n",
    "\n",
    "print(\"\\nSample of tokenized device file:\")\n",
    "print(df_device_processed[['id', 'user', 'pc', 'activity', 'token']].head())\n",
    "\n",
    "\n",
    "df_device_processed.to_csv('device_tokenized.csv', index=False)\n",
    "print(\"Successfully generated tokens for device.csv\")"
   ]
  },
  {
   "cell_type": "code",
   "execution_count": 19,
   "id": "e1f0811b-a2d3-4465-b79c-b5a2378712eb",
   "metadata": {},
   "outputs": [
    {
     "name": "stdout",
     "output_type": "stream",
     "text": [
      "\n",
      "Sample of tokenized device file:\n",
      "                         id     user       pc    activity              token\n",
      "0  {Z2Q8-K3AV28BE-9353JIRT}  SDH2394  PC-5849     Connect     self_connect_3\n",
      "1  {C7F1-G7LE60RU-2483DAXS}  JKS2444  PC-6961     Connect     self_connect_2\n",
      "2  {T9A4-D4RV69OF-1704NINW}  CBA1023  PC-1570     Connect     self_connect_6\n",
      "3  {S8L0-O6QQ15NL-0636OYNV}  GNT0221  PC-6427     Connect     self_connect_2\n",
      "4  {U0F1-R1FX27FM-6954TTVU}  JKS2444  PC-6961  Disconnect  self_disconnect_0\n",
      "Successfully generated tokens for device.csv\n"
     ]
    }
   ],
   "source": [
    "import pandas as pd\n",
    "import pickle\n",
    "import warnings\n",
    "warnings.filterwarnings(\"ignore\")\n",
    "\n",
    "df = pd.read_csv(\"device.csv\")\n",
    "\n",
    "with open('assignments.pkl', 'rb') as f:\n",
    "    self_dict = pickle.load(f)\n",
    "    \n",
    "with open('shared.pkl', 'rb') as f:\n",
    "    share_dict = pickle.load(f)\n",
    "\n",
    "def get_pc_type(user, pc):\n",
    "    if pc == self_dict[user]:\n",
    "        return 'self'\n",
    "    elif pc in share_dict:\n",
    "        return 'shared'\n",
    "    else:\n",
    "        return 'other'\n",
    "\n",
    "def count_subdirectories(file_tree):\n",
    "    if pd.isna(file_tree) or file_tree.strip() == '':\n",
    "        return 0\n",
    "    return len(file_tree.split(';'))\n",
    "\n",
    "df['token'] = 'NIL'\n",
    "\n",
    "for index, row in df.iterrows():\n",
    "\n",
    "    pc_type = get_pc_type(row['user'], row['pc'])\n",
    "\n",
    "    activity = row['activity'].lower()\n",
    "\n",
    "    subdir_count = count_subdirectories(row['file_tree'])\n",
    "\n",
    "    df.loc[index, 'token'] = f\"{pc_type}_{activity}_{subdir_count}\"\n",
    "\n",
    "print(\"\\nSample of tokenized device file:\")\n",
    "print(df[['id', 'user', 'pc', 'activity', 'token']].head())\n",
    "\n",
    "df.to_csv('device_tokenized.csv', index=False)\n",
    "print(\"Successfully generated tokens for device.csv\")"
   ]
  },
  {
   "cell_type": "code",
   "execution_count": 20,
   "id": "277b023b-c9ac-4c86-a9ea-b944c50dc5c5",
   "metadata": {},
   "outputs": [
    {
     "data": {
      "text/plain": [
       "token\n",
       "self_disconnect_0     755725\n",
       "self_connect_4        170389\n",
       "self_connect_6        163426\n",
       "self_connect_5        151320\n",
       "self_connect_2        143051\n",
       "self_connect_3        132419\n",
       "other_disconnect_0     17749\n",
       "other_connect_3         5968\n",
       "other_connect_4         4080\n",
       "other_connect_2         3777\n",
       "other_connect_6         1967\n",
       "other_connect_5         1957\n",
       "Name: count, dtype: int64"
      ]
     },
     "execution_count": 20,
     "metadata": {},
     "output_type": "execute_result"
    }
   ],
   "source": [
    "df['token'].value_counts()"
   ]
  },
  {
   "cell_type": "code",
   "execution_count": null,
   "id": "892f3121-ac8f-41db-8206-6ea3c4223a89",
   "metadata": {},
   "outputs": [],
   "source": []
  }
 ],
 "metadata": {
  "kernelspec": {
   "display_name": "Python 3 (ipykernel)",
   "language": "python",
   "name": "python3"
  },
  "language_info": {
   "codemirror_mode": {
    "name": "ipython",
    "version": 3
   },
   "file_extension": ".py",
   "mimetype": "text/x-python",
   "name": "python",
   "nbconvert_exporter": "python",
   "pygments_lexer": "ipython3",
   "version": "3.13.1"
  }
 },
 "nbformat": 4,
 "nbformat_minor": 5
}
