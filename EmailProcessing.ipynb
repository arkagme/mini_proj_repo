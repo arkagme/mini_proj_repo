{
 "cells": [
  {
   "cell_type": "code",
   "execution_count": 1,
   "id": "0022ccc7-77da-49c2-a2ff-4a7a487bc3fd",
   "metadata": {},
   "outputs": [
    {
     "data": {
      "text/html": [
       "<div>\n",
       "<style scoped>\n",
       "    .dataframe tbody tr th:only-of-type {\n",
       "        vertical-align: middle;\n",
       "    }\n",
       "\n",
       "    .dataframe tbody tr th {\n",
       "        vertical-align: top;\n",
       "    }\n",
       "\n",
       "    .dataframe thead th {\n",
       "        text-align: right;\n",
       "    }\n",
       "</style>\n",
       "<table border=\"1\" class=\"dataframe\">\n",
       "  <thead>\n",
       "    <tr style=\"text-align: right;\">\n",
       "      <th></th>\n",
       "      <th>date</th>\n",
       "      <th>user</th>\n",
       "      <th>pc</th>\n",
       "      <th>to</th>\n",
       "      <th>cc</th>\n",
       "      <th>bcc</th>\n",
       "      <th>from</th>\n",
       "      <th>activity</th>\n",
       "      <th>size</th>\n",
       "      <th>attachments</th>\n",
       "    </tr>\n",
       "  </thead>\n",
       "  <tbody>\n",
       "    <tr>\n",
       "      <th>0</th>\n",
       "      <td>01/02/2010 06:36:41</td>\n",
       "      <td>HDB1666</td>\n",
       "      <td>PC-6793</td>\n",
       "      <td>Louis.Bernard.Garza@dtaa.com</td>\n",
       "      <td>Emery.Ali.Holloway@dtaa.com</td>\n",
       "      <td>Hector.Donovan.Bray@dtaa.com</td>\n",
       "      <td>Hector.Donovan.Bray@dtaa.com</td>\n",
       "      <td>Send</td>\n",
       "      <td>45659</td>\n",
       "      <td>NaN</td>\n",
       "    </tr>\n",
       "    <tr>\n",
       "      <th>1</th>\n",
       "      <td>01/02/2010 06:40:02</td>\n",
       "      <td>HDB1666</td>\n",
       "      <td>PC-6793</td>\n",
       "      <td>Hector.Donovan.Bray@dtaa.com</td>\n",
       "      <td>NaN</td>\n",
       "      <td>NaN</td>\n",
       "      <td>Luke.Grant.Mcmahon@dtaa.com</td>\n",
       "      <td>View</td>\n",
       "      <td>34142</td>\n",
       "      <td>NaN</td>\n",
       "    </tr>\n",
       "    <tr>\n",
       "      <th>2</th>\n",
       "      <td>01/02/2010 06:42:48</td>\n",
       "      <td>HDB1666</td>\n",
       "      <td>PC-6793</td>\n",
       "      <td>Quintessa.O.Farrell@harris.com</td>\n",
       "      <td>Hector.Donovan.Bray@dtaa.com</td>\n",
       "      <td>NaN</td>\n",
       "      <td>Hector.Donovan.Bray@dtaa.com</td>\n",
       "      <td>Send</td>\n",
       "      <td>1310925</td>\n",
       "      <td>C:\\28X79b6\\0PAGXTJ8.doc(1119253);C:\\11b38g6\\5M...</td>\n",
       "    </tr>\n",
       "    <tr>\n",
       "      <th>3</th>\n",
       "      <td>01/02/2010 06:45:42</td>\n",
       "      <td>HDB1666</td>\n",
       "      <td>PC-6793</td>\n",
       "      <td>Hector.Donovan.Bray@dtaa.com</td>\n",
       "      <td>NaN</td>\n",
       "      <td>NaN</td>\n",
       "      <td>Travis.Ezra.Warner@dtaa.com</td>\n",
       "      <td>View</td>\n",
       "      <td>23043</td>\n",
       "      <td>NaN</td>\n",
       "    </tr>\n",
       "    <tr>\n",
       "      <th>4</th>\n",
       "      <td>01/02/2010 06:47:07</td>\n",
       "      <td>HDB1666</td>\n",
       "      <td>PC-6793</td>\n",
       "      <td>Hector.Donovan.Bray@dtaa.com</td>\n",
       "      <td>NaN</td>\n",
       "      <td>NaN</td>\n",
       "      <td>Kenyon.William.Delacruz@dtaa.com</td>\n",
       "      <td>View</td>\n",
       "      <td>25210</td>\n",
       "      <td>NaN</td>\n",
       "    </tr>\n",
       "    <tr>\n",
       "      <th>...</th>\n",
       "      <td>...</td>\n",
       "      <td>...</td>\n",
       "      <td>...</td>\n",
       "      <td>...</td>\n",
       "      <td>...</td>\n",
       "      <td>...</td>\n",
       "      <td>...</td>\n",
       "      <td>...</td>\n",
       "      <td>...</td>\n",
       "      <td>...</td>\n",
       "    </tr>\n",
       "    <tr>\n",
       "      <th>10994952</th>\n",
       "      <td>05/31/2011 19:58:30</td>\n",
       "      <td>GLN2107</td>\n",
       "      <td>PC-6169</td>\n",
       "      <td>Noel_Gay@verizon.net</td>\n",
       "      <td>NaN</td>\n",
       "      <td>NaN</td>\n",
       "      <td>Emma.G.Potter@hotmail.com</td>\n",
       "      <td>View</td>\n",
       "      <td>562755</td>\n",
       "      <td>C:\\OI35LQOF.doc(537466)</td>\n",
       "    </tr>\n",
       "    <tr>\n",
       "      <th>10994953</th>\n",
       "      <td>05/31/2011 20:01:00</td>\n",
       "      <td>UMB0055</td>\n",
       "      <td>PC-1021</td>\n",
       "      <td>Teegan.F.Leonard@northropgrumman.com</td>\n",
       "      <td>Ursa.Melinda.Bentley@dtaa.com</td>\n",
       "      <td>NaN</td>\n",
       "      <td>Ursa.Melinda.Bentley@dtaa.com</td>\n",
       "      <td>Send</td>\n",
       "      <td>27684</td>\n",
       "      <td>NaN</td>\n",
       "    </tr>\n",
       "    <tr>\n",
       "      <th>10994954</th>\n",
       "      <td>05/31/2011 20:01:42</td>\n",
       "      <td>GLN2107</td>\n",
       "      <td>PC-6169</td>\n",
       "      <td>Gay.Lunea.Noel@dtaa.com</td>\n",
       "      <td>NaN</td>\n",
       "      <td>NaN</td>\n",
       "      <td>Emma.Galena.Potter@dtaa.com</td>\n",
       "      <td>View</td>\n",
       "      <td>32292</td>\n",
       "      <td>NaN</td>\n",
       "    </tr>\n",
       "    <tr>\n",
       "      <th>10994955</th>\n",
       "      <td>05/31/2011 20:05:04</td>\n",
       "      <td>GLN2107</td>\n",
       "      <td>PC-6169</td>\n",
       "      <td>Michelle.Britanney.Peters@dtaa.com;Emma.Galena...</td>\n",
       "      <td>NaN</td>\n",
       "      <td>NaN</td>\n",
       "      <td>Gay.Lunea.Noel@dtaa.com</td>\n",
       "      <td>Send</td>\n",
       "      <td>23197</td>\n",
       "      <td>NaN</td>\n",
       "    </tr>\n",
       "    <tr>\n",
       "      <th>10994956</th>\n",
       "      <td>05/31/2011 20:10:19</td>\n",
       "      <td>SGC2111</td>\n",
       "      <td>PC-8415</td>\n",
       "      <td>Michelle.Britanney.Peters@dtaa.com;Sydnee.Hyac...</td>\n",
       "      <td>NaN</td>\n",
       "      <td>Sean.Galvin.Crawford@dtaa.com</td>\n",
       "      <td>Sean.Galvin.Crawford@dtaa.com</td>\n",
       "      <td>Send</td>\n",
       "      <td>20480</td>\n",
       "      <td>NaN</td>\n",
       "    </tr>\n",
       "  </tbody>\n",
       "</table>\n",
       "<p>10994957 rows × 10 columns</p>\n",
       "</div>"
      ],
      "text/plain": [
       "                         date     user       pc  \\\n",
       "0         01/02/2010 06:36:41  HDB1666  PC-6793   \n",
       "1         01/02/2010 06:40:02  HDB1666  PC-6793   \n",
       "2         01/02/2010 06:42:48  HDB1666  PC-6793   \n",
       "3         01/02/2010 06:45:42  HDB1666  PC-6793   \n",
       "4         01/02/2010 06:47:07  HDB1666  PC-6793   \n",
       "...                       ...      ...      ...   \n",
       "10994952  05/31/2011 19:58:30  GLN2107  PC-6169   \n",
       "10994953  05/31/2011 20:01:00  UMB0055  PC-1021   \n",
       "10994954  05/31/2011 20:01:42  GLN2107  PC-6169   \n",
       "10994955  05/31/2011 20:05:04  GLN2107  PC-6169   \n",
       "10994956  05/31/2011 20:10:19  SGC2111  PC-8415   \n",
       "\n",
       "                                                         to  \\\n",
       "0                              Louis.Bernard.Garza@dtaa.com   \n",
       "1                              Hector.Donovan.Bray@dtaa.com   \n",
       "2                            Quintessa.O.Farrell@harris.com   \n",
       "3                              Hector.Donovan.Bray@dtaa.com   \n",
       "4                              Hector.Donovan.Bray@dtaa.com   \n",
       "...                                                     ...   \n",
       "10994952                               Noel_Gay@verizon.net   \n",
       "10994953               Teegan.F.Leonard@northropgrumman.com   \n",
       "10994954                            Gay.Lunea.Noel@dtaa.com   \n",
       "10994955  Michelle.Britanney.Peters@dtaa.com;Emma.Galena...   \n",
       "10994956  Michelle.Britanney.Peters@dtaa.com;Sydnee.Hyac...   \n",
       "\n",
       "                                     cc                            bcc  \\\n",
       "0           Emery.Ali.Holloway@dtaa.com   Hector.Donovan.Bray@dtaa.com   \n",
       "1                                   NaN                            NaN   \n",
       "2          Hector.Donovan.Bray@dtaa.com                            NaN   \n",
       "3                                   NaN                            NaN   \n",
       "4                                   NaN                            NaN   \n",
       "...                                 ...                            ...   \n",
       "10994952                            NaN                            NaN   \n",
       "10994953  Ursa.Melinda.Bentley@dtaa.com                            NaN   \n",
       "10994954                            NaN                            NaN   \n",
       "10994955                            NaN                            NaN   \n",
       "10994956                            NaN  Sean.Galvin.Crawford@dtaa.com   \n",
       "\n",
       "                                      from activity     size  \\\n",
       "0             Hector.Donovan.Bray@dtaa.com     Send    45659   \n",
       "1              Luke.Grant.Mcmahon@dtaa.com     View    34142   \n",
       "2             Hector.Donovan.Bray@dtaa.com     Send  1310925   \n",
       "3              Travis.Ezra.Warner@dtaa.com     View    23043   \n",
       "4         Kenyon.William.Delacruz@dtaa.com     View    25210   \n",
       "...                                    ...      ...      ...   \n",
       "10994952         Emma.G.Potter@hotmail.com     View   562755   \n",
       "10994953     Ursa.Melinda.Bentley@dtaa.com     Send    27684   \n",
       "10994954       Emma.Galena.Potter@dtaa.com     View    32292   \n",
       "10994955           Gay.Lunea.Noel@dtaa.com     Send    23197   \n",
       "10994956     Sean.Galvin.Crawford@dtaa.com     Send    20480   \n",
       "\n",
       "                                                attachments  \n",
       "0                                                       NaN  \n",
       "1                                                       NaN  \n",
       "2         C:\\28X79b6\\0PAGXTJ8.doc(1119253);C:\\11b38g6\\5M...  \n",
       "3                                                       NaN  \n",
       "4                                                       NaN  \n",
       "...                                                     ...  \n",
       "10994952                            C:\\OI35LQOF.doc(537466)  \n",
       "10994953                                                NaN  \n",
       "10994954                                                NaN  \n",
       "10994955                                                NaN  \n",
       "10994956                                                NaN  \n",
       "\n",
       "[10994957 rows x 10 columns]"
      ]
     },
     "execution_count": 1,
     "metadata": {},
     "output_type": "execute_result"
    }
   ],
   "source": [
    "import pandas as pd\n",
    "df = pd.read_csv('r6.2/email.csv').drop(['id','content'],axis=1)\n",
    "df"
   ]
  },
  {
   "cell_type": "markdown",
   "id": "a56f476d-a71b-4913-9178-870a2cbd3834",
   "metadata": {},
   "source": [
    "Token sequence = pc + rec + from + activity + size + attachments\n",
    "\n",
    "\n",
    "pc : self, shared or other\n",
    "\n",
    "\n",
    "rec : internal or external\n",
    "\n",
    "\n",
    "from : self or other\n",
    "\n",
    "\n",
    "activity : Send or View\n",
    "\n",
    "\n",
    "size : small or large\n",
    "\n",
    "\n",
    "attachemts : yes or no"
   ]
  },
  {
   "cell_type": "code",
   "execution_count": 2,
   "id": "10efb387-70fc-4003-9655-ed50cc814f66",
   "metadata": {
    "scrolled": true
   },
   "outputs": [],
   "source": [
    "def mail(x):\n",
    "    if ';' not in x and '@dtaa.com' in x:\n",
    "        return 'int'\n",
    "    rec = x.split(sep = ';')\n",
    "    itl = True\n",
    "    for to in rec:\n",
    "        if to != 'nan':\n",
    "            itl = itl and '@dtaa.com' in to\n",
    "    if not itl:\n",
    "        itl = 'ext'\n",
    "    else: itl = 'int'\n",
    "    return itl\n",
    "df['rec'] = (df['to']+';'+df['cc'].astype(str)+';'+df['bcc'].astype(str)).apply(lambda x : mail(x))\n"
   ]
  },
  {
   "cell_type": "code",
   "execution_count": null,
   "id": "51527d4f-4c68-43d7-aaac-9e9f0200eb3c",
   "metadata": {
    "scrolled": true
   },
   "outputs": [],
   "source": [
    "def ccbcc(x):\n",
    "    if x['activity'] == 'View':\n",
    "        return x\n",
    "    if type(x['cc']) != type(0.1) and type(x['bcc']) != type(0.1):\n",
    "        x['activity']+='ccbcc'\n",
    "    elif type(x['cc']) != type(0.1):\n",
    "        x['activity']+='cc'\n",
    "    return x\n",
    "        \n",
    "df = df.apply(lambda x : ccbcc(x),axis=1)"
   ]
  },
  {
   "cell_type": "code",
   "execution_count": null,
   "id": "9bca4efb-ff9d-4442-a70e-1f3a6934d46d",
   "metadata": {},
   "outputs": [],
   "source": [
    "\n",
    "def file(x):\n",
    "    if type(x) == type(0.1):\n",
    "        return 'No'\n",
    "    return 'Yes'\n",
    "df['attachments'] = df['attachments'].apply(lambda x : file(x))"
   ]
  },
  {
   "cell_type": "code",
   "execution_count": null,
   "id": "1118cc0a-1e0d-4621-87c2-03d4c076f179",
   "metadata": {
    "scrolled": true
   },
   "outputs": [],
   "source": [
    "names = pd.read_csv('r6.2/LDAP/2009-12.csv',index_col = 'user_id').drop(['employee_name','role','projects','business_unit','functional_unit','department','team'\n",
    "                                                  ,'supervisor'],axis=1)\n",
    "names"
   ]
  },
  {
   "cell_type": "code",
   "execution_count": null,
   "id": "ab76ec88-c821-490c-82ed-e01cb517afbb",
   "metadata": {
    "scrolled": true
   },
   "outputs": [],
   "source": [
    "import warnings\n",
    "warnings.filterwarnings(\"ignore\")\n",
    "sent = []\n",
    "for i in df.index:\n",
    "    if names['email'][df['user'][i]] == df['from'][i]:\n",
    "        sent.append('self')\n",
    "    else:\n",
    "        sent.append('other')\n",
    "df['from'] = sent"
   ]
  },
  {
   "cell_type": "code",
   "execution_count": null,
   "id": "efde0852-565c-4476-b396-335c744f2067",
   "metadata": {},
   "outputs": [],
   "source": [
    "df['size'] = df['size'].apply(lambda x : 'large' if x//1000000>=3 else 'small')"
   ]
  },
  {
   "cell_type": "code",
   "execution_count": null,
   "id": "31f293b6-d4d9-4f55-a852-d18556f2f3f0",
   "metadata": {
    "scrolled": true
   },
   "outputs": [],
   "source": [
    "import pickle\n",
    "\n",
    "with open('assignments.pkl', 'rb') as f:\n",
    "    self_dict = pickle.load(f)\n",
    "self_dict"
   ]
  },
  {
   "cell_type": "code",
   "execution_count": null,
   "id": "94688be0-432a-4097-b2e3-da7ae60a0c12",
   "metadata": {
    "scrolled": true
   },
   "outputs": [],
   "source": [
    "with open('shared.pkl', 'rb') as f:\n",
    "    share_dict = pickle.load(f)\n",
    "share_dict"
   ]
  },
  {
   "cell_type": "code",
   "execution_count": null,
   "id": "a365c7bf-53f4-4674-aba0-ea4debbb8910",
   "metadata": {},
   "outputs": [],
   "source": [
    "import warnings\n",
    "warnings.filterwarnings(\"ignore\")\n",
    "self = []\n",
    "for i in df.index:\n",
    "    if df['pc'][i] == self_dict[df['user'][i]]:\n",
    "        self.append('self')\n",
    "    elif df['pc'][i] in share_dict:\n",
    "        self.append('shared')\n",
    "    else:\n",
    "        self.append('other')\n",
    "df['pc'] = self"
   ]
  },
  {
   "cell_type": "code",
   "execution_count": null,
   "id": "b75aeb04-1a32-4f77-a1ff-977b2867f026",
   "metadata": {},
   "outputs": [],
   "source": [
    "df['pc'].value_counts()"
   ]
  },
  {
   "cell_type": "code",
   "execution_count": null,
   "id": "3262f46a-ac0b-4290-84cc-a157dfb299b4",
   "metadata": {
    "scrolled": true
   },
   "outputs": [],
   "source": [
    "tokens = {}\n",
    "possible = set((df['pc']+'_'+df['rec']+'_'+df['from']+'_'+df['activity']+'_'+df['size']+'_'+df['attachments']).to_list())\n",
    "possible"
   ]
  },
  {
   "cell_type": "code",
   "execution_count": null,
   "id": "77d796e5-612b-4bc7-946f-715f106205da",
   "metadata": {},
   "outputs": [],
   "source": [
    "len(possible)"
   ]
  },
  {
   "cell_type": "code",
   "execution_count": null,
   "id": "fe3cb050-a76d-47d0-885d-c5c21f6cfcea",
   "metadata": {
    "scrolled": true
   },
   "outputs": [],
   "source": [
    "for x,i in enumerate(possible):\n",
    "    tokens[i] = x\n",
    "tokens"
   ]
  },
  {
   "cell_type": "code",
   "execution_count": null,
   "id": "521bef29-99c6-4fe4-b07f-e378ae962ed5",
   "metadata": {},
   "outputs": [],
   "source": [
    "df['mail-tokens'] = (df['pc']+'_'+df['rec']+'_'+df['from']+'_'+df['activity']+'_'+\n",
    "                     df['size']+'_'+df['attachments']).to_list()\n",
    "df = df.drop(['pc','rec','from','activity','size','attachments'],axis=1)"
   ]
  },
  {
   "cell_type": "code",
   "execution_count": null,
   "id": "49355203-8227-4110-8dce-3aa496f2ebcc",
   "metadata": {},
   "outputs": [],
   "source": [
    "df"
   ]
  },
  {
   "cell_type": "code",
   "execution_count": null,
   "id": "851e9dbe-f74f-4772-be8e-2d2218a67506",
   "metadata": {},
   "outputs": [],
   "source": [
    "df.to_csv('ProcessedMailTokens.csv')"
   ]
  }
 ],
 "metadata": {
  "kernelspec": {
   "display_name": "Python 3 (ipykernel)",
   "language": "python",
   "name": "python3"
  },
  "language_info": {
   "codemirror_mode": {
    "name": "ipython",
    "version": 3
   },
   "file_extension": ".py",
   "mimetype": "text/x-python",
   "name": "python",
   "nbconvert_exporter": "python",
   "pygments_lexer": "ipython3",
   "version": "3.12.9"
  }
 },
 "nbformat": 4,
 "nbformat_minor": 5
}
